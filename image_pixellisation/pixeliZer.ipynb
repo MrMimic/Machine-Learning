{
 "cells": [
  {
   "cell_type": "markdown",
   "metadata": {},
   "source": [
    "# Dataset downloading"
   ]
  },
  {
   "cell_type": "code",
   "execution_count": null,
   "metadata": {},
   "outputs": [],
   "source": [
    "PIXABAY_API_KEY = \"<API_KEY>\"  # From your Pixabay account\n",
    "PIXABAY_QUERY = \"<YOUR_THEME>\"  # The theme to get pictures used as pixels\n",
    "PIXABAY_CATEGORY = \"<CATEGORY>\"  # backgrounds, fashion, nature, science, education, feelings, health, people, religion, places, animals, industry, computer, food, sports, transportation, travel, buildings, business, music\n",
    "PIXABAY_IMAGE_TYPE = \"<TYPE>\"  # all, photo, illustration, vector\n",
    "INPUT_IMAGE_PATH = \"<INPUT>.jpg\"  # Input JPG file name\n",
    "OUTPUT_IMAGE_WISHED_DIMENSIONS = (80, 80)  # Output dimensions (watch out, will be 80 * 50 pixels width here eg)\n",
    "OUTPUT_IMAGE_PIXELS_WIDTH = 50  # Small images pixel size"
   ]
  },
  {
   "cell_type": "code",
   "execution_count": null,
   "metadata": {},
   "outputs": [],
   "source": [
    "import json\n",
    "import requests\n",
    "\n",
    "api_url = f\"https://pixabay.com/api\"\n",
    "parameters = {\n",
    "    \"key\": PIXABAY_API_KEY,\n",
    "    \"q\": PIXABAY_QUERY.replace(\" \", \"+\"),\n",
    "    \"image_type\": PIXABAY_IMAGE_TYPE,\n",
    "    \"category\": PIXABAY_CATEGORY,\n",
    "    \"per_page\": \"200\"\n",
    "}\n",
    "request_url = f'{api_url}?{\"&\".join([f\"{key}={value}\" for key, value in parameters.items()])}'\n",
    "\n",
    "response = requests.get(request_url)\n",
    "json_response = json.loads(response.text)\n",
    "print(f'Found {json_response[\"totalHits\"]} pictures about {parameters[\"q\"]} on Pixabay')"
   ]
  },
  {
   "cell_type": "code",
   "execution_count": null,
   "metadata": {},
   "outputs": [],
   "source": [
    "import io\n",
    "import json\n",
    "import os\n",
    "from time import sleep, time\n",
    "\n",
    "import numpy as np\n",
    "from PIL import Image\n",
    "from tqdm import tqdm\n",
    "\n",
    "dataset_path = os.path.join(os.getcwd(), \"dataset\", f'{PIXABAY_QUERY.replace(\" \", \"_\")}_{OUTPUT_IMAGE_PIXELS_WIDTH}')\n",
    "if not os.path.isdir(dataset_path):\n",
    "    os.mkdir(dataset_path)\n",
    "\n",
    "# That will contain the average RGB values for each image\n",
    "rgb_values = {}\n",
    "\n",
    "number_of_pages = int(\n",
    "    json_response[\"totalHits\"] / int(parameters[\"per_page\"])) + 1\n",
    "i = 0\n",
    "# For each result page\n",
    "for page in range(1, number_of_pages + 1):\n",
    "    parameters[\"page\"] = page\n",
    "    request_url = f'{api_url}?{\"&\".join([f\"{key}={value}\" for key, value in parameters.items()])}'\n",
    "    response = requests.get(request_url)\n",
    "    json_response = json.loads(response.text)\n",
    "    # For each image from that page\n",
    "    for result in tqdm(json_response[\"hits\"],\n",
    "                       desc=f\"Page {page}/{number_of_pages}\",\n",
    "                       total=int(parameters[\"per_page\"])):\n",
    "        image_path = os.path.join(dataset_path, f'{parameters[\"q\"]}-{result[\"id\"]}.jpg')\n",
    "        # Download or read the image\n",
    "        if not os.path.isfile(image_path):\n",
    "            start = time()\n",
    "            # Download the image\n",
    "            image_url = result[\"largeImageURL\"]\n",
    "            response = requests.get(image_url,\n",
    "                                    headers={\"User-Agent\": \"Chrome\"})\n",
    "            # Resize and save the image to a square of wished width\n",
    "            stream = io.BytesIO(response.content)\n",
    "            raw_image = Image.open(stream)\n",
    "            raw_image = raw_image.resize((OUTPUT_IMAGE_PIXELS_WIDTH, OUTPUT_IMAGE_PIXELS_WIDTH))\n",
    "            try:\n",
    "                raw_image.save(image_path)\n",
    "            except OSError:\n",
    "                raw_image = raw_image.convert(\"RGB\")\n",
    "                raw_image.save(image_path)\n",
    "            end = time()\n",
    "            elapsed = end - start\n",
    "            # Only wait if the process took less than 0.66 seconds (100 calls per minute for Pixabay API)\n",
    "            if elapsed < 0.66:\n",
    "                sleep(0.66 - elapsed)\n",
    "        else:\n",
    "            try:\n",
    "                raw_image = Image.open(image_path)\n",
    "            except:\n",
    "                continue\n",
    "        # Get the average R, G and B values\n",
    "        resized_image_array = np.array(raw_image)\n",
    "        R = np.mean([pixel[0] for row in resized_image_array for pixel in row])\n",
    "        G = np.mean([pixel[1] for row in resized_image_array for pixel in row])\n",
    "        B = np.mean([pixel[2] for row in resized_image_array for pixel in row])\n",
    "        rgb_values[image_path] = (R, G, B)"
   ]
  },
  {
   "cell_type": "code",
   "execution_count": null,
   "metadata": {},
   "outputs": [],
   "source": [
    "# Write the mean RGB value for all images\n",
    "out_file_name = os.path.join(dataset_path, \"rgb_mean_values.json\")\n",
    "if not os.path.isfile(out_file_name):\n",
    "    with open(out_file_name, \"w\") as handler:\n",
    "        json.dump(rgb_values, handler, indent=2, sort_keys=True, ensure_ascii=False)"
   ]
  },
  {
   "cell_type": "markdown",
   "metadata": {},
   "source": [
    "# Image generation"
   ]
  },
  {
   "cell_type": "code",
   "execution_count": null,
   "metadata": {},
   "outputs": [],
   "source": [
    "from PIL import Image, UnidentifiedImageError\n",
    "from IPython.display import display\n",
    "\n",
    "portrait = Image.open(INPUT_IMAGE_PATH)\n",
    "portrait = portrait.resize(OUTPUT_IMAGE_WISHED_DIMENSIONS)\n",
    "display(portrait)"
   ]
  },
  {
   "cell_type": "code",
   "execution_count": null,
   "metadata": {},
   "outputs": [],
   "source": [
    "from scipy.spatial import KDTree\n",
    "\n",
    "def get_closer_rgb(rgb_values, target_rgb, number_of_target=1, wished_index=0):\n",
    "    \"\"\"\n",
    "    Returns the path to the image with the closest RGB value to the target RGB\n",
    "    \"\"\"\n",
    "    # Get all the Pixabay images paths and RGB values\n",
    "    images_paths = list(rgb_values.keys())\n",
    "    images_values = np.array(list(rgb_values.values()))\n",
    "    # Get the closer Pixabay image regarding RGB wished values\n",
    "    kdtree = KDTree(images_values)\n",
    "    dist, point = kdtree.query(target_rgb, number_of_target)\n",
    "    del dist\n",
    "    return images_paths[point[wished_index]]"
   ]
  },
  {
   "cell_type": "code",
   "execution_count": null,
   "metadata": {},
   "outputs": [],
   "source": [
    "import numpy as np\n",
    "\n",
    "# Transform this image into a numpy array\n",
    "portrait_array = np.array(portrait)\n",
    "new_portrait_array = []\n",
    "\n",
    "# For each pixel of the image\n",
    "for index, row in tqdm(enumerate(portrait_array), total=len(portrait_array)):\n",
    "    row_images = []\n",
    "    for pixel in row:\n",
    "        # Get the closest image to the current pixel\n",
    "        wished_index = 0\n",
    "        while True:\n",
    "            closest_image_path = get_closer_rgb(rgb_values, pixel, 10, wished_index)\n",
    "            try:\n",
    "                pixel_closest_image = Image.open(closest_image_path)\n",
    "                row_images.append(pixel_closest_image)\n",
    "                break\n",
    "            except UnidentifiedImageError:\n",
    "                wished_index += 1\n",
    "                continue\n",
    "    # Add the new line to the new image\n",
    "    combined_row = np.hstack([np.asarray(pixel_image) for pixel_image in row_images])\n",
    "    combined_row_image = Image.fromarray(combined_row)\n",
    "    new_portrait_array.append(combined_row_image)\n",
    "# Vertical combinaison for lines\n",
    "combined_output_array = np.vstack([np.asarray(pixel_row) for pixel_row in new_portrait_array])\n",
    "combined_output_image = Image.fromarray(combined_output_array)\n",
    "# Save the image\n",
    "combined_output_image.save(\n",
    "    f\"{INPUT_IMAGE_PATH.split('.')[0]}_{PIXABAY_QUERY.replace(' ', '_')}_w{OUTPUT_IMAGE_PIXELS_WIDTH}_{OUTPUT_IMAGE_WISHED_DIMENSIONS[0]}x{OUTPUT_IMAGE_WISHED_DIMENSIONS[1]}.jpg\"\n",
    ")"
   ]
  }
 ],
 "metadata": {
  "interpreter": {
   "hash": "422d824f2c5cf6f5100b762bab04d79925ed7d6237b41a8226c89f6d0b5224ea"
  },
  "kernelspec": {
   "display_name": "Python 3.8.5 64-bit ('.venv': venv)",
   "language": "python",
   "name": "python3"
  },
  "language_info": {
   "codemirror_mode": {
    "name": "ipython",
    "version": 3
   },
   "file_extension": ".py",
   "mimetype": "text/x-python",
   "name": "python",
   "nbconvert_exporter": "python",
   "pygments_lexer": "ipython3",
   "version": "3.8.5"
  },
  "orig_nbformat": 4
 },
 "nbformat": 4,
 "nbformat_minor": 2
}
